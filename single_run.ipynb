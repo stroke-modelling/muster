{
 "cells": [
  {
   "cell_type": "code",
   "execution_count": 1,
   "metadata": {},
   "outputs": [],
   "source": [
    "import numpy as np"
   ]
  },
  {
   "cell_type": "code",
   "execution_count": 2,
   "metadata": {
    "ExecuteTime": {
     "end_time": "2023-10-18T12:18:06.447365991Z",
     "start_time": "2023-10-18T12:18:03.347908513Z"
    },
    "tags": []
   },
   "outputs": [
    {
     "ename": "IndexError",
     "evalue": "list index out of range",
     "output_type": "error",
     "traceback": [
      "\u001b[0;31m---------------------------------------------------------------------------\u001b[0m",
      "\u001b[0;31mIndexError\u001b[0m                                Traceback (most recent call last)",
      "Cell \u001b[0;32mIn[2], line 13\u001b[0m\n\u001b[1;32m      6\u001b[0m scenario \u001b[38;5;241m=\u001b[39m Scenario({\n\u001b[1;32m      7\u001b[0m     \u001b[38;5;124m\"\u001b[39m\u001b[38;5;124mrun_duration\u001b[39m\u001b[38;5;124m\"\u001b[39m: \u001b[38;5;241m5\u001b[39m,  \u001b[38;5;66;03m# years\u001b[39;00m\n\u001b[1;32m      8\u001b[0m     \u001b[38;5;124m\"\u001b[39m\u001b[38;5;124mmt_hub_postcodes\u001b[39m\u001b[38;5;124m\"\u001b[39m:[\u001b[38;5;124m'\u001b[39m\u001b[38;5;124mPL68DH\u001b[39m\u001b[38;5;124m'\u001b[39m, \u001b[38;5;124m'\u001b[39m\u001b[38;5;124mBS105NB\u001b[39m\u001b[38;5;124m'\u001b[39m]\n\u001b[1;32m      9\u001b[0m })\n\u001b[1;32m     11\u001b[0m model \u001b[38;5;241m=\u001b[39m Model(scenario)\n\u001b[0;32m---> 13\u001b[0m \u001b[43mmodel\u001b[49m\u001b[38;5;241;43m.\u001b[39;49m\u001b[43mrun\u001b[49m\u001b[43m(\u001b[49m\u001b[43m)\u001b[49m\n",
      "File \u001b[0;32m~/Dropbox/01_Git_Current/3_Muster/muster/classes/model.py:190\u001b[0m, in \u001b[0;36mModel.run\u001b[0;34m(self)\u001b[0m\n\u001b[1;32m    187\u001b[0m \u001b[38;5;28mself\u001b[39m\u001b[38;5;241m.\u001b[39menv\u001b[38;5;241m.\u001b[39mrun(until\u001b[38;5;241m=\u001b[39m\u001b[38;5;28mself\u001b[39m\u001b[38;5;241m.\u001b[39mscenario\u001b[38;5;241m.\u001b[39mrun_duration)\n\u001b[1;32m    189\u001b[0m \u001b[38;5;66;03m# Call end run routine to summarise and record model results\u001b[39;00m\n\u001b[0;32m--> 190\u001b[0m \u001b[38;5;28;43mself\u001b[39;49m\u001b[38;5;241;43m.\u001b[39;49m\u001b[43mend_run_routine\u001b[49m\u001b[43m(\u001b[49m\u001b[43m)\u001b[49m\n",
      "File \u001b[0;32m~/Dropbox/01_Git_Current/3_Muster/muster/classes/model.py:87\u001b[0m, in \u001b[0;36mModel.end_run_routine\u001b[0;34m(self)\u001b[0m\n\u001b[1;32m     61\u001b[0m \u001b[38;5;250m\u001b[39m\u001b[38;5;124;03m\"\"\"\u001b[39;00m\n\u001b[1;32m     62\u001b[0m \u001b[38;5;124;03mEnd run routine. Summarise results of the completed simulation.\u001b[39;00m\n\u001b[1;32m     63\u001b[0m \n\u001b[0;32m   (...)\u001b[0m\n\u001b[1;32m     80\u001b[0m \u001b[38;5;124;03m    stroke team individually.\u001b[39;00m\n\u001b[1;32m     81\u001b[0m \u001b[38;5;124;03m\"\"\"\u001b[39;00m\n\u001b[1;32m     83\u001b[0m \u001b[38;5;66;03m# Record which columns are used for times.\u001b[39;00m\n\u001b[1;32m     84\u001b[0m \u001b[38;5;66;03m# self.pathway.completed_patients is a list of dictionaries\u001b[39;00m\n\u001b[1;32m     85\u001b[0m \u001b[38;5;66;03m# with shared keys.\u001b[39;00m\n\u001b[1;32m     86\u001b[0m \u001b[38;5;66;03m# Get all names in the completed patient dictionaries:\u001b[39;00m\n\u001b[0;32m---> 87\u001b[0m completed_patients_keys \u001b[38;5;241m=\u001b[39m \u001b[38;5;28;43mself\u001b[39;49m\u001b[38;5;241;43m.\u001b[39;49m\u001b[43mpathway\u001b[49m\u001b[38;5;241;43m.\u001b[39;49m\u001b[43mcompleted_patients\u001b[49m\u001b[43m[\u001b[49m\u001b[38;5;241;43m0\u001b[39;49m\u001b[43m]\u001b[49m\u001b[38;5;241m.\u001b[39mkeys()\n\u001b[1;32m     90\u001b[0m \u001b[38;5;66;03m# Convert results into DataFrames\u001b[39;00m\n\u001b[1;32m     91\u001b[0m \u001b[38;5;66;03m# self.pathway.completed_patients is a list of dictionaries\u001b[39;00m\n\u001b[1;32m     92\u001b[0m \u001b[38;5;66;03m# with shared keys so can be converted to DataFrame:\u001b[39;00m\n\u001b[1;32m     93\u001b[0m \u001b[38;5;28mself\u001b[39m\u001b[38;5;241m.\u001b[39mresults_all \u001b[38;5;241m=\u001b[39m pd\u001b[38;5;241m.\u001b[39mDataFrame(\u001b[38;5;28mself\u001b[39m\u001b[38;5;241m.\u001b[39mpathway\u001b[38;5;241m.\u001b[39mcompleted_patients)\n",
      "\u001b[0;31mIndexError\u001b[0m: list index out of range"
     ]
    }
   ],
   "source": [
    "from classes.model import Model\n",
    "from classes.scenario import Scenario\n",
    "\n",
    "\n",
    "# Scenario overwrites default values\n",
    "scenario = Scenario({\n",
    "    \"run_duration\": 5,  # years\n",
    "    \"mt_hub_postcodes\":['PL68DH', 'BS105NB']\n",
    "})\n",
    "\n",
    "model = Model(scenario)\n",
    "\n",
    "model.run()"
   ]
  },
  {
   "cell_type": "code",
   "execution_count": null,
   "metadata": {},
   "outputs": [],
   "source": [
    "model.results_all"
   ]
  },
  {
   "cell_type": "code",
   "execution_count": null,
   "metadata": {},
   "outputs": [],
   "source": [
    "completed_patients_keys = model.pathway.completed_patients[0].keys()\n",
    "time_cols = [x for x in completed_patients_keys if x[0:4] == 'time']\n",
    "time_cols.remove('time_onset')"
   ]
  },
  {
   "cell_type": "code",
   "execution_count": null,
   "metadata": {},
   "outputs": [],
   "source": [
    "model.results_summary_all"
   ]
  },
  {
   "cell_type": "code",
   "execution_count": null,
   "metadata": {},
   "outputs": [],
   "source": [
    "model.results_summary_by_admitting_unit"
   ]
  },
  {
   "cell_type": "code",
   "execution_count": null,
   "metadata": {},
   "outputs": [],
   "source": [
    "model.results_all[np.isnan(model.results_all['time_puncture']) == False]"
   ]
  },
  {
   "cell_type": "code",
   "execution_count": null,
   "metadata": {},
   "outputs": [],
   "source": [
    "model.results_all[np.isnan(model.results_all['time_needle']) == False]"
   ]
  }
 ],
 "metadata": {
  "kernelspec": {
   "display_name": "Python 3 (ipykernel)",
   "language": "python",
   "name": "python3"
  },
  "language_info": {
   "codemirror_mode": {
    "name": "ipython",
    "version": 3
   },
   "file_extension": ".py",
   "mimetype": "text/x-python",
   "name": "python",
   "nbconvert_exporter": "python",
   "pygments_lexer": "ipython3",
   "version": "3.10.13"
  }
 },
 "nbformat": 4,
 "nbformat_minor": 4
}
