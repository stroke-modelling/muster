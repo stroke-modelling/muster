{
 "cells": [
  {
   "cell_type": "code",
   "execution_count": 1,
   "metadata": {},
   "outputs": [],
   "source": [
    "import numpy as np"
   ]
  },
  {
   "cell_type": "code",
   "execution_count": null,
   "metadata": {
    "ExecuteTime": {
     "end_time": "2023-10-18T12:18:06.447365991Z",
     "start_time": "2023-10-18T12:18:03.347908513Z"
    },
    "tags": []
   },
   "outputs": [],
   "source": [
    "from classes.model import Model\n",
    "from classes.scenario import Scenario\n",
    "\n",
    "\n",
    "# Scenario overwrites default values\n",
    "scenario = Scenario({\n",
    "    \"run_duration\": 5,  # years\n",
    "    \"mt_hub_postcodes\":['PL68DH', 'BS105NB']\n",
    "})\n",
    "\n",
    "model = Model(scenario)\n",
    "\n",
    "model.run()"
   ]
  },
  {
   "cell_type": "code",
   "execution_count": null,
   "metadata": {},
   "outputs": [],
   "source": [
    "model.results_all"
   ]
  },
  {
   "cell_type": "code",
   "execution_count": null,
   "metadata": {},
   "outputs": [],
   "source": [
    "completed_patients_keys = model.pathway.completed_patients[0].keys()\n",
    "time_cols = [x for x in completed_patients_keys if x[0:4] == 'time']\n",
    "time_cols.remove('time_onset')"
   ]
  },
  {
   "cell_type": "code",
   "execution_count": null,
   "metadata": {},
   "outputs": [],
   "source": [
    "model.results_summary_all"
   ]
  },
  {
   "cell_type": "code",
   "execution_count": null,
   "metadata": {},
   "outputs": [],
   "source": [
    "model.results_summary_by_admitting_unit"
   ]
  },
  {
   "cell_type": "code",
   "execution_count": null,
   "metadata": {},
   "outputs": [],
   "source": [
    "model.results_all[np.isnan(model.results_all['time_puncture']) == False]"
   ]
  },
  {
   "cell_type": "code",
   "execution_count": null,
   "metadata": {},
   "outputs": [],
   "source": [
    "model.results_all[np.isnan(model.results_all['time_needle']) == False]"
   ]
  },
  {
   "cell_type": "code",
   "execution_count": null,
   "metadata": {},
   "outputs": [],
   "source": []
  }
 ],
 "metadata": {
  "kernelspec": {
   "display_name": "Python 3 (ipykernel)",
   "language": "python",
   "name": "python3"
  },
  "language_info": {
   "codemirror_mode": {
    "name": "ipython",
    "version": 3
   },
   "file_extension": ".py",
   "mimetype": "text/x-python",
   "name": "python",
   "nbconvert_exporter": "python",
   "pygments_lexer": "ipython3",
   "version": "3.10.9"
  }
 },
 "nbformat": 4,
 "nbformat_minor": 4
}
