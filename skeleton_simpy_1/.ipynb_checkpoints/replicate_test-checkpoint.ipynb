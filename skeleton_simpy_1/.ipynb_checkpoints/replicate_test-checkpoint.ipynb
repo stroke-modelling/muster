{
 "cells": [
  {
   "cell_type": "code",
   "execution_count": 1,
   "metadata": {
    "tags": []
   },
   "outputs": [],
   "source": [
    "# Set Working Directory up one level for Jupyter Notebooks\n",
    "import os\n",
    "os.chdir('../')"
   ]
  },
  {
   "cell_type": "code",
   "execution_count": 2,
   "metadata": {
    "tags": []
   },
   "outputs": [
    {
     "name": "stdout",
     "output_type": "stream",
     "text": [
      ">> Running scenario 1 of 2"
     ]
    },
    {
     "ename": "AttributeError",
     "evalue": "'Replicator' object has no attribute 'summary_patients'",
     "output_type": "error",
     "traceback": [
      "\u001b[0;31m---------------------------------------------------------------------------\u001b[0m",
      "\u001b[0;31mAttributeError\u001b[0m                            Traceback (most recent call last)",
      "Cell \u001b[0;32mIn[2], line 14\u001b[0m\n\u001b[1;32m     12\u001b[0m \u001b[38;5;66;03m# Set up and call replicator\u001b[39;00m\n\u001b[1;32m     13\u001b[0m replications \u001b[38;5;241m=\u001b[39m Replicator(scenarios\u001b[38;5;241m=\u001b[39mscenarios, replications\u001b[38;5;241m=\u001b[39m\u001b[38;5;241m5\u001b[39m)\n\u001b[0;32m---> 14\u001b[0m \u001b[43mreplications\u001b[49m\u001b[38;5;241;43m.\u001b[39;49m\u001b[43mrun_scenarios\u001b[49m\u001b[43m(\u001b[49m\u001b[43m)\u001b[49m\n",
      "File \u001b[0;32m~/OneDrive/01_projects/Optimist_Muster/simpy-pathway-model/skeleton_simpy_1/classes/replication.py:63\u001b[0m, in \u001b[0;36mReplicator.run_scenarios\u001b[0;34m(self)\u001b[0m\n\u001b[1;32m     61\u001b[0m     scenario_output \u001b[38;5;241m=\u001b[39m \u001b[38;5;28mself\u001b[39m\u001b[38;5;241m.\u001b[39mrun_trial(scenario)\n\u001b[1;32m     62\u001b[0m     \u001b[38;5;66;03m# Collate trial results from scenario into single DataFrame \u001b[39;00m\n\u001b[0;32m---> 63\u001b[0m     \u001b[38;5;28;43mself\u001b[39;49m\u001b[38;5;241;43m.\u001b[39;49m\u001b[43mcollate_trial_results\u001b[49m\u001b[43m(\u001b[49m\u001b[43mname\u001b[49m\u001b[43m,\u001b[49m\u001b[43m \u001b[49m\u001b[43mscenario_output\u001b[49m\u001b[43m)\u001b[49m\n\u001b[1;32m     65\u001b[0m \u001b[38;5;66;03m# Clear displayed progress output\u001b[39;00m\n\u001b[1;32m     66\u001b[0m clear_line \u001b[38;5;241m=\u001b[39m \u001b[38;5;124m'\u001b[39m\u001b[38;5;130;01m\\r\u001b[39;00m\u001b[38;5;124m'\u001b[39m \u001b[38;5;241m+\u001b[39m \u001b[38;5;124m\"\u001b[39m\u001b[38;5;124m \u001b[39m\u001b[38;5;124m\"\u001b[39m \u001b[38;5;241m*\u001b[39m \u001b[38;5;241m79\u001b[39m\n",
      "File \u001b[0;32m~/OneDrive/01_projects/Optimist_Muster/simpy-pathway-model/skeleton_simpy_1/classes/replication.py:46\u001b[0m, in \u001b[0;36mReplicator.collate_trial_results\u001b[0;34m(self, name, results)\u001b[0m\n\u001b[1;32m     44\u001b[0m result_item[\u001b[38;5;124m'\u001b[39m\u001b[38;5;124mrun\u001b[39m\u001b[38;5;124m'\u001b[39m] \u001b[38;5;241m=\u001b[39m run\n\u001b[1;32m     45\u001b[0m result_item[\u001b[38;5;124m'\u001b[39m\u001b[38;5;124mname\u001b[39m\u001b[38;5;124m'\u001b[39m] \u001b[38;5;241m=\u001b[39m name\n\u001b[0;32m---> 46\u001b[0m \u001b[38;5;28mself\u001b[39m\u001b[38;5;241m.\u001b[39msummary_patients \u001b[38;5;241m=\u001b[39m \u001b[38;5;28;43mself\u001b[39;49m\u001b[38;5;241;43m.\u001b[39;49m\u001b[43msummary_patients\u001b[49m\u001b[38;5;241m.\u001b[39mappend(result_item)\n",
      "\u001b[0;31mAttributeError\u001b[0m: 'Replicator' object has no attribute 'summary_patients'"
     ]
    }
   ],
   "source": [
    "from classes.replication import Replicator\n",
    "from classes.parameters import Scenario\n",
    "\n",
    "scenarios = {}\n",
    "\n",
    "scenarios['default'] = Scenario()\n",
    "scenarios['fast_ambo'] = Scenario({\n",
    "    \"run_duration\": 5 * 1440,\n",
    "    \"process_time_ambulance_response\": (5, 5),\n",
    "    \"process_time_call_ambulance\": (5, 5)})\n",
    "\n",
    "# Set up and call replicator\n",
    "replications = Replicator(scenarios=scenarios, replications=5)\n",
    "replications.run_scenarios()"
   ]
  },
  {
   "cell_type": "code",
   "execution_count": null,
   "metadata": {},
   "outputs": [],
   "source": []
  }
 ],
 "metadata": {
  "kernelspec": {
   "display_name": "Python 3 (ipykernel)",
   "language": "python",
   "name": "python3"
  },
  "language_info": {
   "codemirror_mode": {
    "name": "ipython",
    "version": 3
   },
   "file_extension": ".py",
   "mimetype": "text/x-python",
   "name": "python",
   "nbconvert_exporter": "python",
   "pygments_lexer": "ipython3",
   "version": "3.10.13"
  }
 },
 "nbformat": 4,
 "nbformat_minor": 4
}
